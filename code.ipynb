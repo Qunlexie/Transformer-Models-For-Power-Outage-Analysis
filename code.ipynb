{
 "cells": [
  {
   "cell_type": "code",
   "execution_count": 36,
   "metadata": {},
   "outputs": [],
   "source": [
    "import pandas as pd\n",
    "import torch\n",
    "from sklearn.model_selection import train_test_split\n",
    "from sklearn.metrics import classification_report\n",
    "from transformers import BertTokenizer, BertForSequenceClassification, AdamW"
   ]
  },
  {
   "attachments": {},
   "cell_type": "markdown",
   "metadata": {},
   "source": [
    "## Outage Detection"
   ]
  },
  {
   "cell_type": "code",
   "execution_count": 37,
   "metadata": {},
   "outputs": [],
   "source": [
    "# Load and Preprocess the Data:\n",
    "import pandas as pd\n",
    "\n",
    "data = pd.read_csv('data.csv')\n",
    "# Preprocess the data (e.g., remove unnecessary columns, clean text)\n",
    "# data  = data[:200]"
   ]
  },
  {
   "cell_type": "code",
   "execution_count": 38,
   "metadata": {},
   "outputs": [
    {
     "data": {
      "text/plain": [
       "outage\n",
       "1         20431\n",
       "0         17638\n",
       "dtype: int64"
      ]
     },
     "execution_count": 38,
     "metadata": {},
     "output_type": "execute_result"
    }
   ],
   "source": [
    "data[[\"outage\"]].value_counts()"
   ]
  },
  {
   "cell_type": "code",
   "execution_count": 30,
   "metadata": {},
   "outputs": [
    {
     "name": "stderr",
     "output_type": "stream",
     "text": [
      "Some weights of the model checkpoint at bert-base-uncased were not used when initializing BertForSequenceClassification: ['cls.predictions.transform.LayerNorm.bias', 'cls.predictions.decoder.weight', 'cls.predictions.transform.LayerNorm.weight', 'cls.predictions.transform.dense.bias', 'cls.seq_relationship.bias', 'cls.predictions.bias', 'cls.seq_relationship.weight', 'cls.predictions.transform.dense.weight']\n",
      "- This IS expected if you are initializing BertForSequenceClassification from the checkpoint of a model trained on another task or with another architecture (e.g. initializing a BertForSequenceClassification model from a BertForPreTraining model).\n",
      "- This IS NOT expected if you are initializing BertForSequenceClassification from the checkpoint of a model that you expect to be exactly identical (initializing a BertForSequenceClassification model from a BertForSequenceClassification model).\n",
      "Some weights of BertForSequenceClassification were not initialized from the model checkpoint at bert-base-uncased and are newly initialized: ['classifier.weight', 'classifier.bias']\n",
      "You should probably TRAIN this model on a down-stream task to be able to use it for predictions and inference.\n"
     ]
    },
    {
     "name": "stdout",
     "output_type": "stream",
     "text": [
      "F1 Score: 0.0\n",
      "Classification Report:\n",
      "                precision    recall  f1-score   support\n",
      "\n",
      "      LABEL_0       0.00      0.00      0.00       0.0\n",
      "      LABEL_1       0.00      0.00      0.00       0.0\n",
      "   complaints       0.00      0.00      0.00    6755.0\n",
      "informational       0.00      0.00      0.00     890.0\n",
      "\n",
      "     accuracy                           0.00    7645.0\n",
      "    macro avg       0.00      0.00      0.00    7645.0\n",
      " weighted avg       0.00      0.00      0.00    7645.0\n",
      "\n",
      "Confusion Matrix:\n",
      " [[   0    0    0    0]\n",
      " [   0    0    0    0]\n",
      " [1082 5673    0    0]\n",
      " [   9  881    0    0]]\n"
     ]
    },
    {
     "name": "stderr",
     "output_type": "stream",
     "text": [
      "/Users/oowola01/opt/anaconda3/envs/mlwork/lib/python3.9/site-packages/sklearn/metrics/_classification.py:1344: UndefinedMetricWarning: Precision and F-score are ill-defined and being set to 0.0 in labels with no predicted samples. Use `zero_division` parameter to control this behavior.\n",
      "  _warn_prf(average, modifier, msg_start, len(result))\n",
      "/Users/oowola01/opt/anaconda3/envs/mlwork/lib/python3.9/site-packages/sklearn/metrics/_classification.py:1344: UndefinedMetricWarning: Recall and F-score are ill-defined and being set to 0.0 in labels with no true samples. Use `zero_division` parameter to control this behavior.\n",
      "  _warn_prf(average, modifier, msg_start, len(result))\n",
      "/Users/oowola01/opt/anaconda3/envs/mlwork/lib/python3.9/site-packages/sklearn/metrics/_classification.py:1344: UndefinedMetricWarning: Precision and F-score are ill-defined and being set to 0.0 in labels with no predicted samples. Use `zero_division` parameter to control this behavior.\n",
      "  _warn_prf(average, modifier, msg_start, len(result))\n",
      "/Users/oowola01/opt/anaconda3/envs/mlwork/lib/python3.9/site-packages/sklearn/metrics/_classification.py:1344: UndefinedMetricWarning: Recall and F-score are ill-defined and being set to 0.0 in labels with no true samples. Use `zero_division` parameter to control this behavior.\n",
      "  _warn_prf(average, modifier, msg_start, len(result))\n",
      "/Users/oowola01/opt/anaconda3/envs/mlwork/lib/python3.9/site-packages/sklearn/metrics/_classification.py:1344: UndefinedMetricWarning: Precision and F-score are ill-defined and being set to 0.0 in labels with no predicted samples. Use `zero_division` parameter to control this behavior.\n",
      "  _warn_prf(average, modifier, msg_start, len(result))\n",
      "/Users/oowola01/opt/anaconda3/envs/mlwork/lib/python3.9/site-packages/sklearn/metrics/_classification.py:1344: UndefinedMetricWarning: Recall and F-score are ill-defined and being set to 0.0 in labels with no true samples. Use `zero_division` parameter to control this behavior.\n",
      "  _warn_prf(average, modifier, msg_start, len(result))\n"
     ]
    }
   ],
   "source": [
    "import pandas as pd\n",
    "import numpy as np\n",
    "from sklearn.model_selection import train_test_split\n",
    "from sklearn.feature_extraction.text import TfidfVectorizer\n",
    "from sklearn.cluster import KMeans\n",
    "from sklearn.metrics import f1_score, classification_report, confusion_matrix\n",
    "from transformers import pipeline\n",
    "\n",
    "# Load the unlabelled tweet data\n",
    "data = pd.read_csv('data.csv')\n",
    "\n",
    "# Data Preprocessing\n",
    "# Perform any necessary data cleaning and preprocessing steps here\n",
    "\n",
    "# Convert the 'text' column to string explicitly\n",
    "data['text'] = data['text'].astype(str)\n",
    "\n",
    "# Extract the text data\n",
    "texts = data['text'].tolist()\n",
    "\n",
    "# Use K-means clustering to generate labels for outage detection\n",
    "num_clusters = 2  # Number of clusters to generate\n",
    "kmeans = KMeans(n_clusters=num_clusters, random_state=42)\n",
    "\n",
    "# Vectorize the text data using TF-IDF and fit K-means\n",
    "vectorizer = TfidfVectorizer()\n",
    "text_vectors = vectorizer.fit_transform(texts)\n",
    "cluster_labels = kmeans.fit_predict(text_vectors)\n",
    "\n",
    "# Assign labels to the data based on cluster labels\n",
    "data['label'] = np.where(cluster_labels == 0, 'complaints', np.where(cluster_labels == 1, 'informational', 'appreciation'))\n",
    "\n",
    "# Split the data into train and test sets\n",
    "train_data, test_data, train_labels, test_labels = train_test_split(\n",
    "    data['text'], data['label'], test_size=0.2, random_state=42\n",
    ")\n",
    "\n",
    "# Fine-tune a pre-trained transformer-based model for outage detection\n",
    "classifier = pipeline('text-classification', model='bert-base-uncased')\n",
    "\n",
    "# Set the batch size\n",
    "batch_size = 32\n",
    "\n",
    "# Predict on the test set in batches\n",
    "test_predicted_labels = []\n",
    "num_batches = len(test_data) // batch_size\n",
    "\n",
    "for i in range(num_batches + 1):\n",
    "    start_idx = i * batch_size\n",
    "    end_idx = min((i + 1) * batch_size, len(test_data))\n",
    "    batch_predictions = classifier(test_data[start_idx:end_idx].tolist())\n",
    "    batch_predicted_labels = [label['label'] for label in batch_predictions]\n",
    "    test_predicted_labels.extend(batch_predicted_labels)\n",
    "\n",
    "# Calculate F1 score\n",
    "f1 = f1_score(test_labels, test_predicted_labels, average='weighted')\n",
    "\n",
    "# Generate classification report\n",
    "report = classification_report(test_labels, test_predicted_labels)\n",
    "\n",
    "# Generate confusion matrix\n",
    "confusion_mat = confusion_matrix(test_labels, test_predicted_labels)\n",
    "\n",
    "# Output the evaluation metrics\n",
    "print('F1 Score: ', f1)\n",
    "print('Classification Report:\\n', report)\n",
    "print('Confusion Matrix:\\n', confusion_mat)\n"
   ]
  },
  {
   "attachments": {},
   "cell_type": "markdown",
   "metadata": {},
   "source": [
    "## Outage Characterization"
   ]
  },
  {
   "cell_type": "code",
   "execution_count": null,
   "metadata": {},
   "outputs": [],
   "source": [
    "# if an outage is found from teh firest tep we can characterize it \n",
    "characteristics = [\"storm\", \"trees\", \"animals\", \"equipment\"]"
   ]
  }
 ],
 "metadata": {
  "kernelspec": {
   "display_name": "mlwork",
   "language": "python",
   "name": "python3"
  },
  "language_info": {
   "codemirror_mode": {
    "name": "ipython",
    "version": 3
   },
   "file_extension": ".py",
   "mimetype": "text/x-python",
   "name": "python",
   "nbconvert_exporter": "python",
   "pygments_lexer": "ipython3",
   "version": "3.9.16"
  },
  "orig_nbformat": 4
 },
 "nbformat": 4,
 "nbformat_minor": 2
}
